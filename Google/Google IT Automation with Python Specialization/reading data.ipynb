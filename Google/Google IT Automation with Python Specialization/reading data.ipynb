{
 "cells": [
  {
   "cell_type": "markdown",
   "metadata": {},
   "source": [
    "cat hello.py\n",
    "\n",
    "- Output = !/usr/bin/env python3 <br>\n",
    "- cat is a command to reveal data from an archive. This case refers to \"hello.py\" archive"
   ]
  },
  {
   "cell_type": "code",
   "execution_count": 3,
   "metadata": {},
   "outputs": [
    {
     "name": "stdout",
     "output_type": "stream",
     "text": [
      "Hello, Steve Rogers\n"
     ]
    }
   ],
   "source": [
    "# This would be the data inside hello.py\n",
    "name = input(\"Please enter your name: \")\n",
    "print(\"Hello, \" + name) "
   ]
  },
  {
   "cell_type": "markdown",
   "metadata": {},
   "source": [
    "./hello.py \n",
    "Please enter your name: Roger\n",
    "- Output will be \"Hello, Roger\"\n",
    "- With ./hello.py we start the program"
   ]
  },
  {
   "cell_type": "code",
   "execution_count": 6,
   "metadata": {},
   "outputs": [
    {
     "name": "stdout",
     "output_type": "stream",
     "text": [
      "Welcome to this time converter\n",
      "That's 109400 seconds\n",
      "\n",
      "Goodbye!\n"
     ]
    }
   ],
   "source": [
    "def to_seconds(hours, minutes, seconds):\n",
    "    return hours*3600+minutes*60+seconds\n",
    "\n",
    "print(\"Welcome to this time converter\")\n",
    "\n",
    "cont = \"y\"\n",
    "while(cont.lower() == \"y\"):\n",
    "    hours = int(input(\"Enter the number of hours: \"))\n",
    "    minutes = int(input(\"Enter the number of minutes: \"))\n",
    "    seconds = int(input(\"Enter the number of seconds: \"))\n",
    "\n",
    "    print(\"That's {} seconds\".format(to_seconds(hours, minutes, seconds)))\n",
    "    print()\n",
    "\n",
    "    cont = input(\"Do you want to do another conversion? [y to continue] \")\n",
    "    \n",
    "print(\"Goodbye!\")"
   ]
  },
  {
   "cell_type": "markdown",
   "metadata": {},
   "source": [
    "## If we wanted to run this program into the computer, we would see this:\n",
    "\n",
    "- ./seconds.py --> To activate the program <br>\n",
    "- Welcome to this time converter --> Message from the program \n",
    "- Enter the number of hours: 1 --> Message from the program and a number 1 input\n",
    "- Enter the number of minutes: 2\n",
    "- Enter the number of seconds: 3"
   ]
  },
  {
   "cell_type": "markdown",
   "metadata": {},
   "source": [
    "### After program has been run, it will show another message to start again or finish it\n",
    "\n",
    "- Do you want to do another conversion? [y to continue] y\n",
    "- Enter the number of hours: 3\n",
    "- Enter the number of minutes: 2\n",
    "- Enter the number of seconds: 1\n",
    "\n",
    "- Do you want to do another conversion? [y to continue] n"
   ]
  },
  {
   "cell_type": "markdown",
   "metadata": {},
   "source": [
    "### Explaining concepts\n",
    "\n",
    "- STDIN: Standard Input (What user inputs and sends to computer by the program) <br>\n",
    "- STDOUT: Standard Output <br>\n",
    "- STDERR: Standard Error"
   ]
  },
  {
   "cell_type": "markdown",
   "metadata": {},
   "source": [
    "cat parameters.py --> Starts the program\n",
    "#!/usr/bin/env python3 --> Program location\n",
    "import sys --> import operating system library\n",
    "print(sys.argv) --> Prints \n",
    "\n",
    "./parameters.py\n",
    "['./parameters.py'] \n",
    "\n",
    "./parameters.py one two three\n",
    "['./parameters.py', 'one', 'two', 'three']"
   ]
  },
  {
   "cell_type": "code",
   "execution_count": null,
   "metadata": {},
   "outputs": [],
   "source": []
  }
 ],
 "metadata": {
  "kernelspec": {
   "display_name": "WorkArea",
   "language": "python",
   "name": "python3"
  },
  "language_info": {
   "codemirror_mode": {
    "name": "ipython",
    "version": 3
   },
   "file_extension": ".py",
   "mimetype": "text/x-python",
   "name": "python",
   "nbconvert_exporter": "python",
   "pygments_lexer": "ipython3",
   "version": "3.10.14"
  }
 },
 "nbformat": 4,
 "nbformat_minor": 2
}
