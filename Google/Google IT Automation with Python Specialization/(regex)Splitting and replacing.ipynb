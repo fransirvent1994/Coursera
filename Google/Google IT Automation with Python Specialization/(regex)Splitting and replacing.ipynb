{
 "cells": [
  {
   "cell_type": "code",
   "execution_count": 1,
   "metadata": {},
   "outputs": [],
   "source": [
    "import re"
   ]
  },
  {
   "cell_type": "code",
   "execution_count": 2,
   "metadata": {},
   "outputs": [
    {
     "data": {
      "text/plain": [
       "['One sentence', ' Another', ' The last one', '']"
      ]
     },
     "execution_count": 2,
     "metadata": {},
     "output_type": "execute_result"
    }
   ],
   "source": [
    "re.split(r\"[.?!]\", \"One sentence. Another? The last one!\") # with [] the program will look for the sentences finished \n",
    "# by the elements inside the brackets "
   ]
  },
  {
   "cell_type": "code",
   "execution_count": 4,
   "metadata": {},
   "outputs": [
    {
     "data": {
      "text/plain": [
       "['One sentence', '.', ' Another', '?', ' The last one', '!', '']"
      ]
     },
     "execution_count": 4,
     "metadata": {},
     "output_type": "execute_result"
    }
   ],
   "source": [
    "re.split(r\"([.?!])\", \"One sentence. Another? The last one!\") # Same as before but with () it will locate too the elements inside the brackets"
   ]
  },
  {
   "cell_type": "code",
   "execution_count": 9,
   "metadata": {},
   "outputs": [
    {
     "data": {
      "text/plain": [
       "'Received an email for [REDACTED]'"
      ]
     },
     "execution_count": 9,
     "metadata": {},
     "output_type": "execute_result"
    }
   ],
   "source": [
    "re.sub(r\"[\\w.%+-]+@[\\w.-]+\", \"[REDACTED]\", \"Received an email for go_nuts95@my.example.com\")\n",
    "# From [\\] to forward, it will search for the characters written on this point\n",
    "# [\\w] it will look for letters and numbers\n",
    "# [\\w.%+-] letters, numbers, perentages, signs and hyphen, dash and underscore\n"
   ]
  },
  {
   "cell_type": "code",
   "execution_count": 25,
   "metadata": {},
   "outputs": [
    {
     "data": {
      "text/plain": [
       "' Leon Kennedy'"
      ]
     },
     "execution_count": 25,
     "metadata": {},
     "output_type": "execute_result"
    }
   ],
   "source": [
    "re.sub(r\"^([\\w .-]*),([\\w .-]*)$\",r\"\\2 \\1\", \"Kennedy, Leon\")\n",
    "\n",
    "# ^ starts the string\n",
    "# $ ends the string \n",
    "# r\"\\2 \\1 represents second and first string groups\n",
    "# This programm will search for the characters and replace the last parameter (a name)"
   ]
  },
  {
   "cell_type": "code",
   "execution_count": 28,
   "metadata": {},
   "outputs": [
    {
     "name": "stdout",
     "output_type": "stream",
     "text": [
      " Leon Kennedy  Jill Valentine  Chris Redfield\n"
     ]
    }
   ],
   "source": [
    "leon = re.sub(r\"^([\\w .-]*),([\\w .-]*)$\",r\"\\2 \\1\", \"Kennedy, Leon\")\n",
    "jill = re.sub(r\"^([\\w .-]*),([\\w .-]*)$\",r\"\\2 \\1\", \"Valentine, Jill\")\n",
    "chris = re.sub(r\"^([\\w .-]*),([\\w .-]*)$\",r\"\\2 \\1\", \"Redfield, Chris\")\n",
    "print(leon, jill, chris)\n",
    "\n",
    "# I wrote this code with variables to explain how to do it and print 3 examples at the same time."
   ]
  },
  {
   "cell_type": "code",
   "execution_count": 29,
   "metadata": {},
   "outputs": [
    {
     "name": "stdout",
     "output_type": "stream",
     "text": [
      "['https://www.data.gov']\n",
      "['https://www.nps.gov', 'https://www.recreation.gov']\n",
      "['https://www.loc.gov']\n",
      "[]\n"
     ]
    }
   ],
   "source": [
    "def find_gov_urls(text):\n",
    "    pattern = r'https://[\\w.-]+\\.gov'\n",
    "    result = re.findall(pattern, text)\n",
    "    return result\n",
    "\n",
    "print(find_gov_urls(\"https://www.data.gov is a great place to find open source datasets!\"))\n",
    "print(find_gov_urls(\"Learn more about US National Parks at https://www.nps.gov, https://www.nationalparks.org, or https://www.recreation.gov.\"))\n",
    "print(find_gov_urls(\"The Library of Congress (https://www.loc.gov) is an incredible resource!\"))\n",
    "print(find_gov_urls(\"The Library of Congress (www.loc.gov) is an incredible resource!\")) \n",
    "\n",
    "# r'https:// will look for a coincidence with the literal characters showed.\n",
    "# [\\w.-] will look for matches with alphanumerical characters, dots and dash.\n",
    "# +\\.gov will look for match with .gov after the reference above this line."
   ]
  },
  {
   "cell_type": "code",
   "execution_count": 31,
   "metadata": {},
   "outputs": [
    {
     "name": "stdout",
     "output_type": "stream",
     "text": [
      "['1234-AB-30']\n",
      "['1234-AB-30', '1678-XZ-11', '1561-CD-57']\n"
     ]
    }
   ],
   "source": [
    "def find_productID(report):\n",
    "  pattern = r'\\b1\\d{3}-[A-Z]{2}-\\d{2}\\b'\n",
    "  result = re.findall(pattern, report)\n",
    "  return result\n",
    "  \n",
    "print(find_productID(\"Products 1234-AB-30 and 2234-AB-30, not items 12-AB-30 or 12345-AB-30\"))\n",
    "print(find_productID(\"Products of interest are 1234-AB-30, 1678-XZ-11, and 1561-CD-57. We're not interested in other products like 2345-AB-29.\"))\n",
    "\n",
    "# \\b: A word limit to make sure that the pattern is recogniced as a complet entity and not as part of a bigger number.\n",
    "# 1\\d{3}: Makes sure that the product ID begins with \"1\" followed by exactly 3 digits.\n",
    "# -[A-Z]{2}: Followed by a dash and two capital letters\n",
    "# -\\d{2}: Termina con un guión seguido por exactamente dos dígitos. Finished with an slash followed by 2 digits\n",
    "# \\b: Another word limit at the end to grant the integrity on the search"
   ]
  },
  {
   "cell_type": "code",
   "execution_count": 38,
   "metadata": {},
   "outputs": [
    {
     "name": "stdout",
     "output_type": "stream",
     "text": [
      "['Hello!', 'How', 'are', 'you', 'doing?', '']\n",
      "['what', 'a', 'beautiful', 'day', 'it', 'is']\n",
      "['2', '+', '2', 'is', 'definitely', '4!', '']\n"
     ]
    }
   ],
   "source": [
    "def parse_sentences(sentence):\n",
    " pattern =r\"\\s+|(?<=[?!])\\s*\" \n",
    " result = re.split(pattern, sentence) \n",
    " return result\n",
    "\n",
    "print(parse_sentences(\"Hello! How are you doing?\")) \n",
    "print(parse_sentences(\"what a beautiful day it is\")) \n",
    "print(parse_sentences(\"2 + 2 is definitely 4!\")) \n",
    "\n",
    "# \\s+: This part of the code makes sure to divide the string in spaces.\n",
    "# Any sequence of one or more spaces will be a divison point\n",
    "# (?<=[?!])\\s*: This is an afirmation of positive lookahead that look for spaces (\\s*)\n",
    "# that continue inmediately after an exclamation or interrogation sign ([?!]). \n",
    "# This allows that signs be maintained with the word before and erase any space followed by.\n"
   ]
  },
  {
   "cell_type": "code",
   "execution_count": null,
   "metadata": {},
   "outputs": [],
   "source": []
  }
 ],
 "metadata": {
  "kernelspec": {
   "display_name": "WorkArea",
   "language": "python",
   "name": "python3"
  },
  "language_info": {
   "codemirror_mode": {
    "name": "ipython",
    "version": 3
   },
   "file_extension": ".py",
   "mimetype": "text/x-python",
   "name": "python",
   "nbconvert_exporter": "python",
   "pygments_lexer": "ipython3",
   "version": "3.10.14"
  }
 },
 "nbformat": 4,
 "nbformat_minor": 2
}
