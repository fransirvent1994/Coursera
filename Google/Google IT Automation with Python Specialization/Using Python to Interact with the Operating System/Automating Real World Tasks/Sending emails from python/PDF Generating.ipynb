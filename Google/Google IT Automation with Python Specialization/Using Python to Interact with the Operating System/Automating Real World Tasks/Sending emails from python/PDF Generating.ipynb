{
 "cells": [
  {
   "cell_type": "markdown",
   "metadata": {},
   "source": [
    "Depending on what your automation does, you might want to generate a PDF report at the end, which lets you decide exactly how you want your information to look like.\n",
    "\n",
    "There's a few tools in Python that let you generate PDFs with the content that you want. Here, we'll learn about one of them: \n",
    "ReportLab\n",
    ". ReportLab has a lot of different features for creating PDF documents. We'll cover just the basics here, and give you pointers for more information at the end.\n",
    "\n",
    "For our examples, we'll be mostly using the high-level classes and methods in the Page Layout and Typography Using Scripts (PLATYPUS) part of the ReportLab module.\n",
    "\n",
    "Let's say that I have an awesome collection of fruit, and I want to create a PDF report of all the different kinds of fruit I have! I can easily represent the different kinds of fruit and how much of each I have with a Python dictionary. It might look something like this:"
   ]
  },
  {
   "cell_type": "code",
   "execution_count": 1,
   "metadata": {},
   "outputs": [],
   "source": [
    "fruit = {\n",
    "  \"elderberries\": 1,\n",
    "  \"figs\": 1,\n",
    "  \"apples\": 2,\n",
    "  \"durians\": 3,\n",
    "  \"bananas\": 5,\n",
    "  \"cherries\": 8,\n",
    "  \"grapes\": 13\n",
    "}\n"
   ]
  },
  {
   "cell_type": "markdown",
   "metadata": {},
   "source": [
    "Now let's take this information and turn it into a report that we can show off! We're going to use the SimpleDocTemplate class to build our PDF. \n",
    "\n"
   ]
  },
  {
   "cell_type": "code",
   "execution_count": 2,
   "metadata": {},
   "outputs": [
    {
     "ename": "ModuleNotFoundError",
     "evalue": "No module named 'reportlab'",
     "output_type": "error",
     "traceback": [
      "\u001b[1;31m---------------------------------------------------------------------------\u001b[0m",
      "\u001b[1;31mModuleNotFoundError\u001b[0m                       Traceback (most recent call last)",
      "Cell \u001b[1;32mIn[2], line 1\u001b[0m\n\u001b[1;32m----> 1\u001b[0m \u001b[38;5;28;01mfrom\u001b[39;00m \u001b[38;5;21;01mreportlab\u001b[39;00m\u001b[38;5;21;01m.\u001b[39;00m\u001b[38;5;21;01mplatypus\u001b[39;00m \u001b[38;5;28;01mimport\u001b[39;00m SimpleDocTemplate\n\u001b[0;32m      2\u001b[0m report \u001b[38;5;241m=\u001b[39m SimpleDocTemplate(\u001b[38;5;124m\"\u001b[39m\u001b[38;5;124m/tmp/report.pdf\u001b[39m\u001b[38;5;124m\"\u001b[39m)\n",
      "\u001b[1;31mModuleNotFoundError\u001b[0m: No module named 'reportlab'"
     ]
    }
   ],
   "source": [
    ">>> from reportlab.platypus import SimpleDocTemplate\n",
    ">>> report = SimpleDocTemplate(\"/tmp/report.pdf\")"
   ]
  },
  {
   "cell_type": "markdown",
   "metadata": {},
   "source": [
    "The report object that we just created will end up generating a PDF using the filename /tmp/report.pdf. Now, let's add some content to it! We'll create a title, some text in paragraphs, and some charts and images. For that, we're going to use what reportlab calls Flowables. Flowables are sort of like chunks of a document that reportlab can arrange to make a complete report. Let's import some Flowable classes.\n",
    "\n"
   ]
  },
  {
   "cell_type": "code",
   "execution_count": null,
   "metadata": {},
   "outputs": [],
   "source": [
    ">>> from reportlab.platypus import Paragraph, Spacer, Table, Image"
   ]
  },
  {
   "cell_type": "markdown",
   "metadata": {},
   "source": [
    "You can make a style all of your own, but we’ll use the default provided by the module for these examples. The styles object now contains a default \"sample\" style. It’s like a dictionary of different style settings. If you've ever written HTML, the style settings will look familiar. For example h1 represents the style for the first level of headers. Alright, we're finally ready to give this report a title!\n",
    "\n"
   ]
  },
  {
   "cell_type": "code",
   "execution_count": null,
   "metadata": {},
   "outputs": [],
   "source": [
    ">>> report.build([report_title])"
   ]
  },
  {
   "cell_type": "markdown",
   "metadata": {},
   "source": [
    "<h1><b><u>Adding Tables to our PDFs</h1></u></b>\n",
    "Up to now, we've generated an extra simple PDF file, that just includes a title.\n",
    "\n",
    "Let's spice this up by adding a Table. To make a Table object, we need our data to be in a list-of-lists, sometimes called a two-dimensional array. We have our inventory of fruit in a dictionary. How can we convert a dictionary into a list-of-lists?"
   ]
  },
  {
   "cell_type": "code",
   "execution_count": null,
   "metadata": {},
   "outputs": [],
   "source": [
    ">>> table_data = []\n",
    ">>> for k, v in fruit.items():\n",
    "...   table_data.append([k, v])\n",
    "...\n",
    ">>> print(table_data)\n",
    "[['elderberries', 1], ['figs', 1], ['apples', 2], ['durians', 3], ['bananas', 5], ['cherries', 8], ['grapes', 13]]"
   ]
  },
  {
   "cell_type": "markdown",
   "metadata": {},
   "source": [
    "Great, we have the list of lists. We can now add it to our report and then generate the PDF file once again by calling the build method.\n",
    "\n"
   ]
  },
  {
   "cell_type": "code",
   "execution_count": null,
   "metadata": {},
   "outputs": [],
   "source": [
    ">>> report_table = Table(data=table_data)\n",
    ">>> report.build([report_title, report_table])"
   ]
  },
  {
   "cell_type": "markdown",
   "metadata": {},
   "source": [
    "Okay, it worked! It's not very easy to read, though. Maybe we should add some style to report_table. For our example, we'll add a border around all of the cells in our table, and move the table over to the left. TableStyle definitions can get pretty complicated, so feel free to take a look at the documentation for a more complete idea of what’s possible."
   ]
  },
  {
   "cell_type": "code",
   "execution_count": null,
   "metadata": {},
   "outputs": [],
   "source": [
    ">>> from reportlab.lib import colors\n",
    ">>> table_style = [('GRID', (0,0), (-1,-1), 1, colors.black)]\n",
    ">>> report_table = Table(data=table_data, style=table_style, hAlign=\"LEFT\")\n",
    ">>> report.build([report_title, report_table])"
   ]
  },
  {
   "cell_type": "markdown",
   "metadata": {},
   "source": [
    "<h1><b><u>Adding Graphics to our PDFs</h1></u></b>\n",
    "Up to now, we've generated a report with a title and a table of data. Next let's add something a little more graphical. What could be better than a fruit pie (graph)?! We’re going to need to use the Drawing Flowable class to create a Pie chart."
   ]
  },
  {
   "cell_type": "code",
   "execution_count": null,
   "metadata": {},
   "outputs": [],
   "source": [
    "from reportlab.graphics.shapes import Drawing\n",
    "from reportlab.graphics.charts.piecharts import Pie\n",
    "report_pie = Pie(width=3*inch, height=3*inch)"
   ]
  },
  {
   "cell_type": "markdown",
   "metadata": {},
   "source": [
    "To add data to our Pie chart, we need two separate lists: One for data, and one for labels. Once more, we’re going to have to transform our fruit dictionary into a different shape. For an added twist, let's sort the fruit in alphabetical order:\n",
    "\n"
   ]
  },
  {
   "cell_type": "markdown",
   "metadata": {},
   "source": [
    "report_pie.data = []\n",
    "report_pie.labels = []\n",
    "for fruit_name in sorted(fruit):\n",
    "    report_pie.data.append(fruit[fruit_name])\n",
    "    report_pie.labels.append(fruit_name)\n",
    "\n",
    "print(report_pie.data)\n",
    "# output: [2, 5, 8, 3, 1, 1, 13]\n",
    "print(report_pie.labels)\n",
    "# output: ['apples', 'bananas', 'cherries', 'durians', 'elderberries', 'figs', 'grapes']"
   ]
  },
  {
   "cell_type": "markdown",
   "metadata": {},
   "source": [
    "The Pie object isn’t Flowable, but it can be placed inside of a Flowable Drawing.\n",
    "\n"
   ]
  },
  {
   "cell_type": "code",
   "execution_count": null,
   "metadata": {},
   "outputs": [],
   "source": [
    "report_chart = Drawing()\n",
    "report_chart.add(report_pie)"
   ]
  },
  {
   "cell_type": "markdown",
   "metadata": {},
   "source": [
    "Now, we'll add the new Drawing to the report, and see what it looks like.\n",
    "\n"
   ]
  },
  {
   "cell_type": "code",
   "execution_count": null,
   "metadata": {},
   "outputs": [],
   "source": [
    "report.build([report_title, report_table, report_chart])"
   ]
  }
 ],
 "metadata": {
  "kernelspec": {
   "display_name": "WorkArea",
   "language": "python",
   "name": "python3"
  },
  "language_info": {
   "codemirror_mode": {
    "name": "ipython",
    "version": 3
   },
   "file_extension": ".py",
   "mimetype": "text/x-python",
   "name": "python",
   "nbconvert_exporter": "python",
   "pygments_lexer": "ipython3",
   "version": "3.10.14"
  }
 },
 "nbformat": 4,
 "nbformat_minor": 2
}
