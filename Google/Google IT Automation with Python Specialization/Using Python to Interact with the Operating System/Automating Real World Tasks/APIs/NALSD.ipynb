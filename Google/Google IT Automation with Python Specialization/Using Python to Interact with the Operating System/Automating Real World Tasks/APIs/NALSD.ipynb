{
 "cells": [
  {
   "cell_type": "markdown",
   "metadata": {},
   "source": [
    "NALSD, also known as non-abstract large system design, is a discipline and a process invented by Google that aims to give SREs (site reliability engineers) the ability to assess, design, and evaluate large systems. NALSD is the process of designing complex and substantial systems, such as software applications, hardware systems, or even organizational structures, with a focus on practical, concrete details rather than on abstract or theoretical concepts. NALSD emphasizes the tangible and real-world aspects of system design and implementation. \n",
    "\n",
    "NALSD combines elements of capacity planning, component isolation, and graceful system degradation that are crucial to highly available production systems. \n",
    "\n",
    "Key characteristics of NALSD\n",
    "NALSD requires DevOps teams to think about scale and resilience during the design process. It separates the design process into two phases. The two phases have the following key characteristics: \n",
    "\n",
    "Phase 1: Technical design\n",
    "Phase 1 is an iterative process that involves multiple rounds of design and refinement. It's common to create prototypes, conduct feasibility studies, and gather feedback from stakeholders to continuously refine the technical design. In this phase, the team tries to answer two questions about the proposed design:\n",
    "\n",
    "Is it possible? Will the design even work?\n",
    "\n",
    "Can we do better? Can we make it faster, simpler, or cheaper?\n",
    "\n",
    "Phase 2: Scaling up\n",
    "In Phase 2, the team assesses whether the system design is feasible at scale. They consider how the system will perform when subjected to significant increases in load. Scalability is essential to ensure that the system can accommodate growth without a dramatic loss of performance. What if you suddenly add a million users to the system? How will the system be able to accommodate a random increase in users?\n",
    "\n",
    "Is it feasible? Will it work at scale? Is it cost-effective?\n",
    "\n",
    "Is it resilient? What happens if the database goes down? \n",
    "\n",
    "Can we do better? Are there changes or additions that we need to make?\n",
    "\n",
    "Three key goals of NALSD\n",
    "Three of the key goals of NALSD are the following: \n",
    "\n",
    "The first is proper capacity planning. Capacity planning is understanding how to properly size each component and how to properly plan for growth. This goal involves careful monitoring, performance analysis, and prediction of growth trends to prevent resource exhaustion or over-provisioning. Capacity planning is crucial in NALSD design because it involves estimating the required resources (CPU, memory, storage, network bandwidth, etc.) to meet current and future demands.\n",
    "\n",
    "The second is component isolation. In NALSD design, a fundamental principle is component isolation, highlighting the importance of designing each element of the system to maximize simplicity, modularity, and independence from one another. The \"do one thing and do it well\" philosophy encourages developers to create components that have a clear and specific purpose.\n",
    "\n",
    "The final goal is graceful degradation. This is the idea that parts of the system should continue to work when another part fails, rather than everything failing at once. For example, in a web application, if a database server becomes unavailable, the system might switch to a read-only mode, allowing users to access existing data while blocking new updates until the database is restored.\n",
    "\n",
    "Google’s NALSD Workbook \n",
    "The NALSD Workbook was created by Google's SRE team. It is designed to help engineers and developers with the design and architecture of large-scale, reliable systems.\n",
    "\n",
    "The NALSD Workbook contains valuable insights, best practices, and guidelines for designing and building complex and scalable systems that can handle high loads and remain reliable. Engineers often refer to such resources to improve their system design skills and create more robust and efficient software and infrastructure. If you're interested in learning more about large-scale system design, this workbook is a fantastic resource and can be found \n",
    "here\n",
    ". \n",
    "\n",
    "Key takeaways\n",
    "Here are three key takeaways from this reading on NALSD:\n",
    "\n",
    "Definition of NALSD: NALSD, or Non-Abstract Large System Design, is a discipline and process introduced by Google, primarily aimed at empowering site reliability engineers (SREs) to assess, design, and evaluate large-scale systems. \n",
    "\n",
    "Two phases of NALSD: Phase 1 involves continuous refinement through feedback, prototyping, and feasibility studies. It seeks to answer: \"Is it possible?\" and \"Can we do better?\" Phase 2 evaluates the system's feasibility and resilience at scale, considering how it will perform under significant load increases. \n",
    "\n",
    "Three key goals of NALSD: Proper capacity planning, component isolation, and graceful degradation are the three goals of NALSD. These goals are in place so that the system can continue functioning even when individual parts fail."
   ]
  }
 ],
 "metadata": {
  "language_info": {
   "name": "python"
  }
 },
 "nbformat": 4,
 "nbformat_minor": 2
}
