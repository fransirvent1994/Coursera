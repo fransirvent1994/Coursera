{
 "cells": [
  {
   "cell_type": "markdown",
   "metadata": {},
   "source": [
    "Generating image containers\n",
    "Up until now, you have been working with prepackaged container images. Now, it’s time to build your own.\n",
    "\n",
    "To \n",
    "build a container image\n",
    ", you create a Dockerfile, which contains step-by-step instructions for Docker to package your application along with all its dependencies.\n",
    "\n",
    "Choose a base image\n",
    "One important step is \n",
    "deciding which base image to use\n",
    ". The base image provides all the operating system files inside the container; it’s a bit like trying to choose between different Linux distributions. The best base images provide just what your application needs to run, without a lot of extra bloat, such as extra command line tools, libraries, drivers, etc.\n",
    "\n",
    "Here are some of the most popular base images:\n",
    "\n",
    "Debian\n",
    " and \n",
    "Ubuntu\n",
    ": containers that boot into a full-featured, general Linux environment \n",
    "\n",
    "Alpine Linux\n",
    ": a stripped-down image designed to result in small, fast containers\n",
    "\n",
    "Python\n",
    ": great for running Python apps\n",
    "\n",
    "The base images make good use of tags to provide lots of choices. For example, you can choose among several versions of Debian or Ubuntu by providing the right tag. The Python base image not only includes every Python version since 3.7, but also includes variants based on the Debian or Alpine images.\n",
    "\n",
    "Create a Dockerfile\n",
    "Now, you can create a Dockerfile in your project directory. Again, the Dockerfile lists the steps needed to generate your container image. \n",
    "\n",
    "Here’s a sample Dockerfile for a Python web app that uses Flask and SQLAlchemy:"
   ]
  },
  {
   "cell_type": "code",
   "execution_count": 1,
   "metadata": {},
   "outputs": [
    {
     "ename": "SyntaxError",
     "evalue": "invalid syntax (315805513.py, line 1)",
     "output_type": "error",
     "traceback": [
      "\u001b[1;36m  Cell \u001b[1;32mIn[1], line 1\u001b[1;36m\u001b[0m\n\u001b[1;33m    FROM python:3.9\u001b[0m\n\u001b[1;37m         ^\u001b[0m\n\u001b[1;31mSyntaxError\u001b[0m\u001b[1;31m:\u001b[0m invalid syntax\n"
     ]
    }
   ],
   "source": [
    "FROM python:3.9\n",
    "WORKDIR /app\n",
    "COPY requirements.txt ./\n",
    "RUN pip install -r requirements.txt\n",
    "COPY . .\n",
    "EXPOSE 4000\n",
    "CMD [ \"flask\", \"run\", \"--host=0.0.0.0\", \"--port=4000\"]"
   ]
  },
  {
   "cell_type": "markdown",
   "metadata": {},
   "source": [
    "Here’s a line-by-line explanation of what this does:\n",
    "\n",
    "FROM sets the base image to use. In this case, we are using the Python 3.9 base image.\n",
    "\n",
    "WORKDIR sets the working directory inside the image.\n",
    "\n",
    "COPY requirements.txt ./ copies the requirements.txt file to the working directory.\n",
    "\n",
    "RUN pip install -r requirements.txt installs the requirements.\n",
    "\n",
    "COPY . . copies all the files in the current directory to the working directory.\n",
    "\n",
    "EXPOSE 4000 exposes the port 4000.\n",
    "\n",
    "CMD [ \"flask\", \"run\", \"--host=0.0.0.0\", \"--port=4000\"] tells Docker to run Flask when the container starts.\n",
    "\n",
    "Your project probably already has a requirements.txt file. Here’s a minimal one that just installs Flask, SQLAlchemy, and the PyMysql driver:"
   ]
  },
  {
   "cell_type": "code",
   "execution_count": null,
   "metadata": {},
   "outputs": [],
   "source": [
    "flask\n",
    "pymysql\n",
    "Flask-SQLAlchemy"
   ]
  },
  {
   "cell_type": "markdown",
   "metadata": {},
   "source": [
    "Build a Docker image\n",
    "Now that you have these files in your project directory, you can \n",
    "build a Docker image\n",
    " with the docker build command. It’s important to \n",
    "choose the best Docker image\n",
    " for your specific project.\n",
    "\n",
    "As we discussed previously in the section on containers and tags, you probably want to tag your container image. Most containers at least use tags for the version number. You do that by adding the -t option to the command. For example, you might use the following command:\n",
    "\n",
    "docker build -t myname/myapp:1.0 .\n",
    "\n",
    "In this command, “myname” is your registry username, and “myapp” is the name of your application.\n",
    "\n",
    "This command usually produces a lot of output, as Docker downloads the base image, runs each of the commands in your Dockerfile, and tags the image.\n",
    "\n",
    "If you plan to upload your image to a registry, you can do that by adding the –push option. Generally, though, you would build the container, test it, then push it to the registry in a separate step — ideally all as part of a CI/CD pipeline.\n",
    "\n",
    "Pro tip\n",
    "Docker images are built from layers. You’ll notice that Docker adds a layer to the image for each command in your Dockerfile. Some of those layers can be quite large, if many files were changed from the previous layer. A common trick is to clean up at the end of a command that creates a bunch of temporary files."
   ]
  },
  {
   "cell_type": "markdown",
   "metadata": {},
   "source": [
    "Manage images\n",
    "When you’ve built your image, you can use it to start a container:"
   ]
  },
  {
   "cell_type": "code",
   "execution_count": null,
   "metadata": {},
   "outputs": [],
   "source": [
    "docker run -p 4000:4000 myname/myapp:1.0"
   ]
  },
  {
   "cell_type": "markdown",
   "metadata": {},
   "source": [
    "In the above command, myname/myapp:1.0 is the image you built earlier. The -p argument forwards port 4000 on the host to the webserver on port 4000 inside the container. (Note that it matches the --port=4000 argument we included in the Dockerfile earlier.)\n",
    "\n",
    "After you’ve been building containers for a while, you’re going to build up a lot of old, stale, or half-built images. To see what images are sitting around taking up hard drive space, you can use the ls command:"
   ]
  },
  {
   "cell_type": "code",
   "execution_count": null,
   "metadata": {},
   "outputs": [],
   "source": [
    "docker image ls -a"
   ]
  },
  {
   "cell_type": "markdown",
   "metadata": {},
   "source": [
    "You can remove the unused images (images that are not associated with any container) with the prune command.\n",
    "\n"
   ]
  },
  {
   "cell_type": "code",
   "execution_count": null,
   "metadata": {},
   "outputs": [],
   "source": [
    "docker image prune"
   ]
  },
  {
   "cell_type": "markdown",
   "metadata": {},
   "source": [
    "As mentioned in the section on generating images, you can also push your image to a repository like DockerHub:\n",
    "\n"
   ]
  },
  {
   "cell_type": "code",
   "execution_count": null,
   "metadata": {},
   "outputs": [],
   "source": [
    "docker image push myname/myapp:1.0"
   ]
  },
  {
   "cell_type": "markdown",
   "metadata": {},
   "source": []
  }
 ],
 "metadata": {
  "kernelspec": {
   "display_name": "WorkArea",
   "language": "python",
   "name": "python3"
  },
  "language_info": {
   "codemirror_mode": {
    "name": "ipython",
    "version": 3
   },
   "file_extension": ".py",
   "mimetype": "text/x-python",
   "name": "python",
   "nbconvert_exporter": "python",
   "pygments_lexer": "ipython3",
   "version": "3.10.14"
  }
 },
 "nbformat": 4,
 "nbformat_minor": 2
}
