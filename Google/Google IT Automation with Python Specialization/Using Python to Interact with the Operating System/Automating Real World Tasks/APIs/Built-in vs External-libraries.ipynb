{
 "cells": [
  {
   "cell_type": "markdown",
   "metadata": {},
   "source": [
    "As we covered in an earlier course, the Python Standard Library comes as part of the Python installation and includes modules for the most common tasks you can do with Python. But there's tons of other things you might want to do in your scripts, and not all of them are in the standard library. This is where external modules come into play. When developers write a Python module that they think others might find useful, they publish it in PyPI -- also known as the Python Package Index (\n",
    "https://pypi.org\n",
    "). We can browse this repository of Python modules to find the module we need. It includes thousands of projects, which are classified by different categories, like topic, development status, and intended audience.\n",
    "\n",
    "In this module, we’re going to be transforming and converting images. To do that, we'll be using a popular library for image manipulation: the Python Imaging Library (PIL). The original PIL library hasn't been updated since 2009 and does not support Python 3. Fortunately, there's a current fork of PIL called \n",
    "Pillow\n",
    ", that properly supports Python 3 and is kept up-to-date. The Pillow library is packaged with the name pillow, but the module name in Python is still PIL.\n",
    "\n",
    "If you try to import the PIL module on a computer that doesn't have pillow (or PIL) installed, you might get an error like this:"
   ]
  },
  {
   "cell_type": "code",
   "execution_count": null,
   "metadata": {},
   "outputs": [],
   "source": [
    "import PIL\n",
    "Traceback (most recent call last):\n",
    "  File \"<stdin>\", line 1, in <module>\n",
    "ModuleNotFoundError: No module named 'PIL'\n"
   ]
  },
  {
   "cell_type": "markdown",
   "metadata": {},
   "source": [
    "Okay, looks like I don't have that module yet! As we covered in an \n",
    "earlier course\n",
    ", there are several ways to add external modules to your Python environment. PIL is a pretty common library, and on Linux it’s usually available as a native package. For example:"
   ]
  },
  {
   "cell_type": "code",
   "execution_count": null,
   "metadata": {},
   "outputs": [],
   "source": [
    "user@ubuntu:~$ sudo apt install python3-pil\n",
    "Reading package lists... Done\n",
    "Building dependency tree     \n",
    "(...)\n",
    "Unpacking python3-pil:amd64 (4.3.0-2) ...\n",
    "Setting up python3-pil:amd64 (4.3.0-2) ...\n"
   ]
  },
  {
   "cell_type": "markdown",
   "metadata": {},
   "source": [
    "For other environments, you should use Python's package installer, pip3. Like this:\n",
    "\n"
   ]
  },
  {
   "cell_type": "code",
   "execution_count": null,
   "metadata": {},
   "outputs": [],
   "source": [
    "$ pip3 install pillow\n",
    "Collecting pillow\n",
    "  Downloading https://files.pythonhosted.org/packages/85/28/2c72ba965b52884a0bd71e419761fc162763dc2e5d9bec2f3b1949f7272a/Pillow-6.2.1-cp37-cp37m-macosx_10_6_intel.whl (3.9MB)\n",
    "     |████████████████████████████████| 3.9MB 1.7MB/s\n",
    "Installing collected packages: pillow\n",
    "Successfully installed pillow-6.2.1\n"
   ]
  },
  {
   "cell_type": "markdown",
   "metadata": {},
   "source": [
    "Once we've done that, we can try to import the module again. And this time it should succeed with no errors:\n",
    "\n"
   ]
  },
  {
   "cell_type": "code",
   "execution_count": null,
   "metadata": {},
   "outputs": [],
   "source": [
    "import PIL"
   ]
  }
 ],
 "metadata": {
  "kernelspec": {
   "display_name": "WorkArea",
   "language": "python",
   "name": "python3"
  },
  "language_info": {
   "name": "python",
   "version": "3.10.14"
  }
 },
 "nbformat": 4,
 "nbformat_minor": 2
}
