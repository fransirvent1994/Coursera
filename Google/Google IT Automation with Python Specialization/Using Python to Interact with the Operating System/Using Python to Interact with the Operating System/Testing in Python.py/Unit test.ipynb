{
 "cells": [
  {
   "cell_type": "markdown",
   "metadata": {},
   "source": [
    "## Test case:"
   ]
  },
  {
   "cell_type": "code",
   "execution_count": 1,
   "metadata": {},
   "outputs": [
    {
     "data": {
      "text/plain": [
       "(['flour', 'sugar', 'eggs', 'cocoa', 'sprinkles', 'cherries'], 14)"
      ]
     },
     "execution_count": 1,
     "metadata": {},
     "output_type": "execute_result"
    }
   ],
   "source": [
    "from typing import List\n",
    "\n",
    "\n",
    "class CakeFactory:\n",
    " def __init__(self, cake_type: str, size: str):\n",
    "   self.cake_type = cake_type\n",
    "   self.size = size\n",
    "   self.toppings = []\n",
    "\n",
    "   # Price based on cake type and size\n",
    "   self.price = 10 if self.cake_type == \"chocolate\" else 8\n",
    "   self.price += 2 if self.size == \"medium\" else 4 if self.size == \"large\" else 0\n",
    "\n",
    " def add_topping(self, topping: str):\n",
    "     self.toppings.append(topping)\n",
    "     # Adding 1 to the price for each topping\n",
    "     self.price += 1\n",
    "\n",
    " def check_ingredients(self) -> List[str]:\n",
    "     ingredients = ['flour', 'sugar', 'eggs']\n",
    "     ingredients.append('cocoa') if self.cake_type == \"chocolate\" else ingredients.append('vanilla extract')\n",
    "     ingredients += self.toppings\n",
    "     return ingredients\n",
    "\n",
    " def check_price(self) -> float:\n",
    "     return self.price\n",
    "\n",
    "# Example of creating a cake and adding toppings\n",
    "cake = CakeFactory(\"chocolate\", \"medium\")\n",
    "cake.add_topping(\"sprinkles\")\n",
    "cake.add_topping(\"cherries\")\n",
    "cake_ingredients = cake.check_ingredients()\n",
    "cake_price = cake.check_price()\n",
    "\n",
    "\n",
    "cake_ingredients, cake_price"
   ]
  }
 ],
 "metadata": {
  "kernelspec": {
   "display_name": "WorkArea",
   "language": "python",
   "name": "python3"
  },
  "language_info": {
   "codemirror_mode": {
    "name": "ipython",
    "version": 3
   },
   "file_extension": ".py",
   "mimetype": "text/x-python",
   "name": "python",
   "nbconvert_exporter": "python",
   "pygments_lexer": "ipython3",
   "version": "3.10.14"
  }
 },
 "nbformat": 4,
 "nbformat_minor": 2
}
