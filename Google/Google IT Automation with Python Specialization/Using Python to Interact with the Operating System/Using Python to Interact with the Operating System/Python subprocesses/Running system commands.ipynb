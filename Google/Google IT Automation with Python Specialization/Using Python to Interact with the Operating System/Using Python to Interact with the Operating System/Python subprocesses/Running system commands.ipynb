{
 "cells": [
  {
   "cell_type": "markdown",
   "metadata": {},
   "source": [
    "import subprocess --> import subprocess library<br>\n",
    "subprocess.run([\"date\"]) --> runs date and time<br>\n",
    "subprocess.run([\"sleep\", \"2\"]) --> It will run the subprocess after 2 seconds <br>\n",
    "result = subprocess.run([\"ls\", \"this_file_does_not_exist\"]) <br>\n",
    "print(result.returncode) <br>"
   ]
  }
 ],
 "metadata": {
  "kernelspec": {
   "display_name": "WorkArea",
   "language": "python",
   "name": "python3"
  },
  "language_info": {
   "codemirror_mode": {
    "name": "ipython",
    "version": 3
   },
   "file_extension": ".py",
   "mimetype": "text/x-python",
   "name": "python",
   "nbconvert_exporter": "python",
   "pygments_lexer": "ipython3",
   "version": "3.10.14"
  }
 },
 "nbformat": 4,
 "nbformat_minor": 2
}
