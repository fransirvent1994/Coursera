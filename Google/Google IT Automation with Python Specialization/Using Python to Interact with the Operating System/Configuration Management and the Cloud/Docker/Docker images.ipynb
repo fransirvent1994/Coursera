{
 "cells": [
  {
   "cell_type": "markdown",
   "metadata": {},
   "source": [
    "<h1><u><b>Docker images"
   ]
  },
  {
   "cell_type": "markdown",
   "metadata": {},
   "source": [
    "Docker images are the building blocks of Docker containers. They are lightweight, immutable, and composed of multiple layers. A Docker image contains the application code, data files, configuration files, libraries, and other dependencies needed to run an application.\n",
    "\n",
    "In this reading, you will learn more about Docker images and their layers. You’ll also learn how to build a Docker image, and you’ll review an example of a Dockerfile."
   ]
  },
  {
   "cell_type": "markdown",
   "metadata": {},
   "source": [
    "<h2><b><u>Docker images and image layers</u></b></h2>\n",
    "You can think of a Docker image as a template from which Docker containers are created and executed. Each Docker image is composed of multiple layers—adding or removing files from the previous layer. Each layer represents a specific set of changes made to the image and is composed based on the instructions in a Dockerfile. The instructions in a Dockerfile define how the image should be built.\n",
    "\n",
    "Note: It’s not uncommon for an image to be composed of a dozen or more layers.\n",
    "\n",
    "The purpose of having multiple layers is to keep the final images as small as possible—you do this by reusing layers in multiple images—and to speed up the process of building containers, as Docker has to rebuild only the layers that have changed."
   ]
  },
  {
   "cell_type": "markdown",
   "metadata": {},
   "source": [
    "<h2><u><b>How to build a Docker image</u></b></h2>\n",
    "The key to packaging your own application as a Docker image is to have a Dockerfile. The Dockerfile acts as your source of truth or instruction manual: It specifies how Docker should build the image and contains a series of commands to build the image. Each command builds a new layer that becomes part of the final image. A common process is to start with a base image such as Debian Linux or Python 3.10, install the libraries your application requires, then copy the application and any related files into the image. Let’s take a look at a simple Dockerfile for a Python application example:"
   ]
  },
  {
   "cell_type": "markdown",
   "metadata": {},
   "source": [
    "<b>FROM python:3.9</b><br>\n",
    "<i><u>This line of code says that you’re starting from the Python 3.9 base image.</u></i><br>\n",
    "<ul>\n",
    "\n",
    "<li><b>COPY *.py setup.cfg LICENSE README.md requirements.txt /app/</b><br>\n",
    "<b>WORKDIR /app</b><br>\n",
    "<i><u>This command says to copy all of the application’s files to a folder inside the container named /app and make it the current working directory.</i></u><br>\n",
    "\n",
    "\n",
    "<li><b>RUN pip install -r requirements.txt<br>\n",
    "RUN python setup.py install</b><br>\n",
    "<i><u>These two lines of code run the Python commands to install the libraries required by the app. When that step is complete, build and install the app inside the container.</i></u><br>\n",
    "\n",
    "\n",
    "\n",
    "<li><b>EXPOSE 8000<br>\n",
    "CMD [ \"/usr/local/bin/my-application\" ]</b><br>\n",
    "<i><u>This command tells Docker what executable should run when the container starts and that the container will listen for network connections on port 8000.</i></u><br>\n",
    "\n",
    "\n",
    "<i><u>Pro tip: To build this image from the Dockerfile, use the command: docker build. If the build is successful, Docker outputs the ID of the new image, which you can then use to start a container."
   ]
  },
  {
   "cell_type": "markdown",
   "metadata": {},
   "source": [
    "<h2><b><u>Image names, tags, and IDs</b></u></h2>\n",
    "You use tags and IDs to identify and reference Docker images. Their unique names provide a way to differentiate between specific versions of Docker images. The ID is a random string of numbers and letters, which most of the time are way too complicated to remember. But there’s good news! You can assign any number of tags to the image, in addition to the ID. Tags are alphanumeric labels that help users find the correct image. Most images are tagged with the author’s Github username, the name of the application, and a version number. \n",
    "\n",
    "\n",
    "Pro tip: Tag the most recent version of an image with latest in addition to a version number. This makes it easy for people to find the current version of your application.\n",
    "\n",
    "Let’s look at an example:<br>\n",
    "<b>\n",
    "csmith/my-docker-image:1.0\n",
    "\n",
    "csmith/my-docker-image:latest \n",
    "\n",
    "sha256:abc123def456\n",
    "</b>\n",
    "\n",
    "<i>csmith is the name of the author,<br> my-docker-image is the image name, <br>1.0 is the version number (and it’s the latest version), <br>and sha256:abc123def456 represents the image ID."
   ]
  },
  {
   "cell_type": "markdown",
   "metadata": {},
   "source": [
    "<h2><u><b>How to manage images</h2></u></b>\n",
    "A great thing about Docker is that it caches images on a disk. Therefore, you don’t need to go grab them or rebuild them every time you need them. This saves you so much time! Some of the Docker CLI (command line interface) commands you can use include:<br>\n",
    "<ul>\n",
    "<li><u>docker image ls – This command lists the images cached locally.\n",
    "\n",
    "<li>docker image tag – This command applies tags to a local image.\n",
    "\n",
    "<li>docker image pull – This command fetches an image from a remote repository.\n",
    "\n",
    "<li>docker image push – This command sends a local image to a remote repository.\n",
    "\n",
    "<li>docker image rm – This command removes an image from the cache.\n",
    "\n",
    "<li>docker image prune – This command removes all unused images to reclaim disk space.</u>"
   ]
  }
 ],
 "metadata": {
  "language_info": {
   "name": "python"
  }
 },
 "nbformat": 4,
 "nbformat_minor": 2
}
