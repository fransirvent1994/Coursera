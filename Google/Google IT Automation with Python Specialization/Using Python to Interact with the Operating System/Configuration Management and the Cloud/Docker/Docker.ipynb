{
 "cells": [
  {
   "cell_type": "markdown",
   "metadata": {},
   "source": [
    "<h1><u><b>Set up Docker"
   ]
  },
  {
   "cell_type": "markdown",
   "metadata": {},
   "source": [
    "Docker is an easy way to package and run applications in containers. Some would consider it the most popular containerized technology. A container is a lightweight, portable, and isolated environment that facilitates the testing and deployment of new software. Within the container, the application is isolated from all other processes on the host machine. In the programming world, there is a saying that goes, “Well, it works on my machine,” meaning that a developer wrote some code that works perfectly on their local machine but does not work on others’ machines. Docker helps solve this common—and annoying—problem by providing a consistent runtime across different environments.\n",
    "\n",
    "In this reading, you will learn more about Docker, including how to install it, and you’ll receive step-by-step instructions along the way."
   ]
  },
  {
   "cell_type": "markdown",
   "metadata": {},
   "source": [
    "<h2><u><b>Parts of Docker </h2></u></b>\n",
    "The Docker ecosystem consists of the following parts:\n",
    "\n",
    "<li>Docker daemon. This manages running containers on a host machine called the Docker Host.\n",
    "\n",
    "<li>Docker CLI (command-line interface). This command-line tool interacts with Docker Daemon. \n",
    "\n",
    "<li>Docker Desktop. This graphical user interface (GUI) tool interacts with the daemon.\n",
    "\n",
    "<li>Docker Hub. This is the central repository for downloading containers."
   ]
  },
  {
   "cell_type": "markdown",
   "metadata": {},
   "source": [
    "<h2>Installing Docker</h2>\n",
    "Before you get started, it is recommended you read the \n",
    "<a href=\"https://docs.docker.com/guides/getting-started/\">Getting started guide</a> in the official Docker documentation. Next, download and install Docker according to your operating system:\n",
    "\n",
    "Windows. \n",
    "<a href=\"https://docs.docker.com/desktop/install/windows-install/\">Install Docker desktop on Windows | Docker documentation</a>\n",
    "\n",
    "macOS. \n",
    "<a href=\"https://docs.docker.com/desktop/install/mac-install/\">Install Docker desktop on Mac | Docker documentation</a>\n",
    "\n",
    "Linux. \n",
    "<a href=\"https://docs.docker.com/desktop/install/linux-install/\">Install Docker desktop on Linux | Docker documentation</a>"
   ]
  },
  {
   "cell_type": "markdown",
   "metadata": {},
   "source": [
    "When you complete the installation, you will have the Docker Daemon and Docker Desktop app installed. You are now ready to run your first container. Let’s look at how to do this on the Docker desktop app:\n",
    "\n",
    "<li>Open the Docker desktop app.\n",
    "\n",
    "<li>Select the Search bar at the top of the window.\n",
    "\n",
    "<li>In the search bar, type hello-world and press Enter.\n",
    "\n",
    "It´s supposed to be displayed a text message saying that the installation has been set properly."
   ]
  }
 ],
 "metadata": {
  "language_info": {
   "name": "python"
  }
 },
 "nbformat": 4,
 "nbformat_minor": 2
}
