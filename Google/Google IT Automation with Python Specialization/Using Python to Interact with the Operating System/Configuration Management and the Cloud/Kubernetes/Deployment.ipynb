{
 "cells": [
  {
   "cell_type": "markdown",
   "metadata": {},
   "source": [
    "<h1><b><u>Deployment</h1></u></b>\n",
    "\n",
    "<u>What are deployments?</u><br>\n",
    "Let’s continue the example of the Python-based web application running in a Kubernetes cluster, specifically the web server component of the application. As traffic to your application grows, you'll need to scale the number of web server instances to keep up with demand. Also, to ensure high availability, you want to maintain multiple replicas of the web server so that if one instance fails, others can take over. This is where Kubernetes Deployments come in.\n",
    "\n",
    "In Kubernetes, a Deployment is like your application's manager. It's responsible for keeping your application up and running smoothly, even under heavy load or during updates. It ensures your application, encapsulated in Pods, always has the desired number of instances—or “replicas”—running.\n",
    "\n",
    "Think of a Deployment as a blueprint for your application's Pods. It contains a Pod Template Spec, defining what each Pod of your application should look like, including the container specifications, labels, and other parameters. The Deployment uses this template to create and update Pods.\n",
    "\n",
    "A Kubernetes Deployment also manages a ReplicaSet, a lower-level resource that makes sure the specified number of identical Pods are always running. The Deployment sets the desired state, such as the number of replicas, and the ReplicaSet ensures that the current state matches the desired state. If a Pod fails or is deleted, the ReplicaSet automatically creates new ones.  In other words, Deployments configure ReplicaSets, and thus, they are the recommended way to set up replication.\n",
    "\n",
    "And by default, deployments support rolling updates and rollbacks. If you update your web server's code, for example, you can push the new version with a rolling update, gradually replacing old Pods with new ones without downtime. If something goes wrong, you can use the Deployment to rollback to a previous version.\n",
    "\n",
    "So, in summary, a Kubernetes Deployment consists of several key components:\n",
    "<ul>\n",
    "<li><b><u>Desired Pod template:</b></u> This is the specification that defines the desired state of the Pods managed by the Deployment. It includes details such as container images, container ports, environment variables, labels, and other configurations.\n",
    "\n",
    "<li><b><u>Replicas:</b></u> This field specifies the desired number of identical copies of the Pod template that should be running. Kubernetes ensures this number of replicas is maintained, automatically scaling up or down as needed.\n",
    "\n",
    "<li><b><u>Update strategy:</b></u> This defines how the Deployment handles updates. The default is a rolling update strategy, where Kubernetes performs updates by gradually replacing Pods, keeping the application available throughout the process. This strategy can be further customized with additional parameters."
   ]
  },
  {
   "cell_type": "markdown",
   "metadata": {},
   "source": [
    "<h2><b><u>Powerful features</h2></b></u>\n",
    "Deployments not only help maintain high availability and scalability, but they also provide several powerful features:\n",
    "<ul>\n",
    "<li><b><u>Declarative updates:</b></u> With a declarative update, you just specify the desired state of your application and the Deployment ensures that this state is achieved. If there are any differences between the current and desired state, Kubernetes automatically reconciles them. \n",
    "\n",
    "<li><b><u>Scaling:</b></u> You can easily adjust the number of replicas in your Deployment to handle increased or decreased loads. For example, you might want to scale up during peak traffic times and scale down during off-peak hours.\n",
    "\n",
    "<li><b><u>History and revision control:</b></u> Deployments keep track of changes made to the desired state, providing you with a revision history. This can be useful for debugging, auditing, and rolling back to specific versions."
   ]
  },
  {
   "cell_type": "markdown",
   "metadata": {},
   "source": [
    "A Kubernetes Deployment is typically defined using a YAML file that specifies these components. Here is an example YAML manifest."
   ]
  },
  {
   "cell_type": "code",
   "execution_count": null,
   "metadata": {},
   "outputs": [],
   "source": [
    "apiVersion: apps/v1\n",
    "kind: Deployment\n",
    "metadata:\n",
    "  name: example-deployment\n",
    "spec:\n",
    "  replicas: 3\n",
    "  selector:\n",
    "\tmatchLabels:\n",
    "  \tapp: example-app\n",
    "  template:\n",
    "\tmetadata:\n",
    "  \tlabels:\n",
    "    \tapp: example-app\n",
    "\tspec:\n",
    "  \tcontainers:\n",
    "  \t- name: example-container\n",
    "    \timage: example-image:latest\n",
    "    \tports:\n",
    "    \t- containerPort: 80"
   ]
  },
  {
   "cell_type": "markdown",
   "metadata": {},
   "source": [
    "This Deployment specifies that it should maintain three replicas of the example-container Pod template. The Pods are labeled with app: example-app, and the container runs an image tagged as example-image:latest on port 80. The default rolling update strategy will be used for any updates to this Deployment. \n",
    "\n",
    "By utilizing Deployments, you can manage your Python web server's life cycle more efficiently, ensuring its high availability, scalability, and smooth updates. "
   ]
  },
  {
   "cell_type": "markdown",
   "metadata": {},
   "source": [
    "<h2><b><u>Deployments and Python</h2></b></u>\n",
    "The following Python script uses the Kubernetes Python client to create, list, and delete Kubernetes Services in a given namespace."
   ]
  },
  {
   "cell_type": "code",
   "execution_count": null,
   "metadata": {},
   "outputs": [],
   "source": [
    "from kubernetes import client, config\n",
    "\n",
    "def create_deployment(api_instance, namespace, deployment_name, image, replicas):\n",
    "\t# Define the Deployment manifest with the desired number of replicas and container image.\n",
    "\tdeployment_manifest = {\n",
    "    \t\"apiVersion\": \"apps/v1\",\n",
    "    \t\"kind\": \"Deployment\",\n",
    "    \t\"metadata\": {\"name\": deployment_name},\n",
    "    \t\"spec\": {\n",
    "        \t\"replicas\": replicas,\n",
    "        \t\"selector\": {\"matchLabels\": {\"app\": deployment_name}},\n",
    "        \t\"template\": {\n",
    "            \t\"metadata\": {\"labels\": {\"app\": deployment_name}},\n",
    "            \t\"spec\": {\n",
    "                \t\"containers\": [\n",
    "                    \t{\"name\": deployment_name, \"image\": image, \"ports\": [{\"containerPort\": 80}]}\n",
    "                \t]\n",
    "            \t},\n",
    "        \t},\n",
    "    \t},\n",
    "\t}\n",
    "\n",
    "\t# Create the Deployment using the Kubernetes API.\n",
    "\tapi_response = api_instance.create_namespaced_deployment(\n",
    "    \tbody=deployment_manifest,\n",
    "    \tnamespace=namespace,\n",
    "\t)\n",
    "\tprint(f\"Deployment '{deployment_name}' created. Status: {api_response.status}\")\n",
    "\n",
    "def update_deployment_image(api_instance, namespace, deployment_name, new_image):\n",
    "\t# Get the existing Deployment.\n",
    "\tdeployment = api_instance.read_namespaced_deployment(deployment_name, namespace)\n",
    "\n",
    "\t# Update the container image in the Deployment.\n",
    "\tdeployment.spec.template.spec.containers[0].image = new_image\n",
    "\n",
    "\t# Patch the Deployment with the updated image.\n",
    "\tapi_response = api_instance.patch_namespaced_deployment(\n",
    "    \tname=deployment_name,\n",
    "    \tnamespace=namespace,\n",
    "    \tbody=deployment\n",
    "\t)\n",
    "\tprint(f\"Deployment '{deployment_name}' updated. Status: {api_response.status}\")\n",
    "\n",
    "def delete_deployment(api_instance, namespace, deployment_name):\n",
    "\t# Delete the Deployment using the Kubernetes API.\n",
    "\tapi_response = api_instance.delete_namespaced_deployment(\n",
    "    \tname=deployment_name,\n",
    "    \tnamespace=namespace,\n",
    "    \tbody=client.V1DeleteOptions(\n",
    "        \tpropagation_policy=\"Foreground\",\n",
    "        \tgrace_period_seconds=5,\n",
    "    \t)\n",
    "\t)\n",
    "\tprint(f\"Deployment '{deployment_name}' deleted. Status: {api_response.status}\")\n",
    "\n",
    "\n",
    "if __name__ == \"__main__\":\n",
    "\t# Load Kubernetes configuration (if running in-cluster, this might not be necessary)\n",
    "\tconfig.load_kube_config()\n",
    "\n",
    "\t# Create an instance of the Kubernetes API client for Deployments\n",
    "\tv1 = client.AppsV1Api()\n",
    "\n",
    "\t# Define the namespace where the Deployment will be created\n",
    "\tnamespace = \"default\"\n",
    "\n",
    "\t# Example: Create a new Deployment\n",
    "\tcreate_deployment(v1, namespace, \"example-deployment\", image=\"nginx:latest\", replicas=3)\n",
    "\n",
    "\t# Example: Update the image of the Deployment\n",
    "\tupdate_deployment_image(v1, namespace, \"example-deployment\", new_image=\"nginx:1.19.10\")\n",
    "\n",
    "\t# Example: Delete the Deployment\n",
    "\tdelete_deployment(v1, namespace, \"example-deployment\")"
   ]
  }
 ],
 "metadata": {
  "kernelspec": {
   "display_name": "WorkArea",
   "language": "python",
   "name": "python3"
  },
  "language_info": {
   "name": "python",
   "version": "3.10.14"
  }
 },
 "nbformat": 4,
 "nbformat_minor": 2
}
