{
 "cells": [
  {
   "cell_type": "markdown",
   "metadata": {},
   "source": [
    "<h1><b><u>Installing Kubernetes</h1></b></u>\n",
    "There are multiple ways to set up and run a Kubernetes cluster. Because Kubernetes acts as a set of containers that manages other containers, Kubenetes is not something you download. You decide on the installation type you need based on your programming requirements.\n",
    "\n",
    "In this reading, you will learn more about a Kubernetes cluster, including how to set it up and run it using Docker Desktop, and you’ll receive step-by-step instructions along the way.\n",
    "\n",
    "Download Docker\n",
    "You should already have Docker up and running on your computer or laptop. If you don’t, download and install Docker according to your operating system:\n",
    "<ul>\n",
    "<li>Windows: <a href=\"https://docs.docker.com/desktop/install/windows-install/\">Install Docker desktop on Windows | Docker documentation</a>\n",
    "\n",
    "<li>macOS: <a href=\"https://docs.docker.com/desktop/install/mac-install/\">Install Docker desktop on Mac | Docker documentation</a>\n",
    "\n",
    "<li>Linux: <a href=\"https://docs.docker.com/desktop/install/linux-install/\">Install Docker desktop on Linux | Docker documentation</a>"
   ]
  },
  {
   "cell_type": "markdown",
   "metadata": {},
   "source": [
    "<h2><u><b>Enable Kubernetes</h2></u></b>\n",
    "After Docker is installed on your machine, follow the instructions below to run Kubernetes in Docker Desktop.\n",
    "<ul>\n",
    "<li>From the Docker Dashboard, select Settings.\n",
    "\n",
    "<li>Select Kubernetes from the left sidebar.\n",
    "\n",
    "<li>Select the checkbox next to Enable Kubernetes.\n",
    "\n",
    "<li>Select Apply & Restart to save the settings.\n",
    "\n",
    "<li>Select Install to complete the installation process.\n",
    "</ul>\n",
    "The Kubernetes server runs as containers and installs the /usr/local/bin/kubect1 command on your machine.\n",
    "\n",
    "And that’s it! Setting up Kubernetes on Docker Desktop is typically the most common way that developers use Kubernetes since Docker Desktop has built-in support for it. Below are additional tools that you can use to start a Kubernetes cluster.\n",
    "<ul>\n",
    "<li><a href=\"https://kind.sigs.k8s.io/docs/user/quick-start/\">kind</a>\n",
    " \n",
    "\n",
    "<li><a href=\"https://docs.k3s.io/quick-start\">k3s</a>\n",
    " \n",
    "\n",
    "<li><a href=\"https://microk8s.io/docs/getting-started\">microk8s</a>\n",
    "\n",
    "<li><a href=\"https://minikube.sigs.k8s.io/docs/start/?arch=%2Fwindows%2Fx86-64%2Fstable%2F.exe+download\">minikube</a>\n",
    "</ul>"
   ]
  }
 ],
 "metadata": {
  "language_info": {
   "name": "python"
  }
 },
 "nbformat": 4,
 "nbformat_minor": 2
}
