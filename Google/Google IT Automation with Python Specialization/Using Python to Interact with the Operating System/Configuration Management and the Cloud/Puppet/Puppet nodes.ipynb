{
 "cells": [
  {
   "cell_type": "code",
   "execution_count": 2,
   "metadata": {},
   "outputs": [
    {
     "ename": "SyntaxError",
     "evalue": "invalid non-printable character U+00A0 (1924095817.py, line 2)",
     "output_type": "error",
     "traceback": [
      "\u001b[1;36m  Cell \u001b[1;32mIn[2], line 2\u001b[1;36m\u001b[0m\n\u001b[1;33m    class { 'sudo': }\u001b[0m\n\u001b[1;37m    ^\u001b[0m\n\u001b[1;31mSyntaxError\u001b[0m\u001b[1;31m:\u001b[0m invalid non-printable character U+00A0\n"
     ]
    }
   ],
   "source": [
    "node default {\n",
    "  class { 'sudo': }\n",
    "  class { 'ntp':\n",
    "        servers => ['ntp1.example.com', 'ntp2.example.com']\n",
    "  }\n",
    "} /"
   ]
  },
  {
   "cell_type": "markdown",
   "metadata": {},
   "source": [
    "About this code \n",
    "The command node default installs the sudo and ntp classes on all default nodes. The sudo class is installed with its default parameters, because no parameters are specified. The ntp class is installed with an additional parameter, indicated by servers => ['ntp1.example.com', 'ntp2.example.com']. "
   ]
  },
  {
   "cell_type": "markdown",
   "metadata": {},
   "source": [
    " class { 'sudo': }\n",
    "  class { 'ntp':\n",
    "        servers => ['ntp1.example.com', 'ntp2.example.com']\n",
    "  }\n",
    "  class { 'apache': }\n",
    "}"
   ]
  },
  {
   "cell_type": "markdown",
   "metadata": {},
   "source": [
    "About this code\n",
    "The command node webserver.example.com installs the sudo, ntp, and apache classes on nodes with the fully-qualified domain name (FQDN) webserver.example.com. \n",
    "\n",
    "Note: Because nodes with this FQDN have a specific set of classes that apply to them, the node default command will not apply any classes to them. "
   ]
  }
 ],
 "metadata": {
  "kernelspec": {
   "display_name": "WorkArea",
   "language": "python",
   "name": "python3"
  },
  "language_info": {
   "codemirror_mode": {
    "name": "ipython",
    "version": 3
   },
   "file_extension": ".py",
   "mimetype": "text/x-python",
   "name": "python",
   "nbconvert_exporter": "python",
   "pygments_lexer": "ipython3",
   "version": "3.10.14"
  }
 },
 "nbformat": 4,
 "nbformat_minor": 2
}
