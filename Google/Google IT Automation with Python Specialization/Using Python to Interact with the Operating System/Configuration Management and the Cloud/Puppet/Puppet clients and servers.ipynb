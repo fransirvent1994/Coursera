{
 "cells": [
  {
   "cell_type": "markdown",
   "metadata": {},
   "source": [
    "sudo puppet config --section master set autosign true"
   ]
  },
  {
   "cell_type": "markdown",
   "metadata": {},
   "source": []
  },
  {
   "cell_type": "markdown",
   "metadata": {},
   "source": [
    "About this code\n",
    "This command configures Puppet to automatically sign the certificate requests of added nodes."
   ]
  },
  {
   "cell_type": "markdown",
   "metadata": {},
   "source": [
    "ssh webserver\n",
    "sudo apt install puppet\n",
    "sudo puppet config set server ubuntu.example.com"
   ]
  },
  {
   "cell_type": "markdown",
   "metadata": {},
   "source": [
    "The command ssh webserver allows you to ssh into a machine called webserver. The sudo apt install puppet installs the Puppet agent onto webserver with the Puppet package. Then, the command sudo puppet config set server \n",
    "ubuntu.example.com\n",
    " configures Puppet to talk to the server on ubuntu.example.com."
   ]
  },
  {
   "cell_type": "markdown",
   "metadata": {},
   "source": [
    "sudo puppet agent -v --test"
   ]
  },
  {
   "cell_type": "markdown",
   "metadata": {},
   "source": [
    "About this code\n",
    "This code tests the connection between the Puppet agent on the machine and the Puppet master. The -v command indicates that the output should be verbose, and the --test command indicates that this is a test run. "
   ]
  },
  {
   "cell_type": "markdown",
   "metadata": {},
   "source": [
    "Code output:\n",
    "\n",
    "This output lists what puppet did to set up the connection between the Puppet agent on the machine and the Puppet master. First, it created an SSL key for the machine. Then, it read information from the machine and used it to create a certificate request. The puppet master generated a certificate, sent it to our puppet agent to store locally. Then, the agent retrieved the information from the machine and sent it to the master. It received a catalog from the master and applied it. \n",
    "\n",
    "Info: Creating a new SSL key for webserver.example.com\n",
    "\n",
    "Info: Caching certificates for ca\n",
    "\n",
    "Info: csr_attributes file loading from /etc/puppet/csr_attributes.yaml\n",
    "\n",
    "Info: Creating a new SSL certificate request for webserver.example.com\n",
    "\n",
    "Info: Certificate Request fingerprint (SHA256): 0E:E1:73:FB:E1:44:2F:FD:F8:84:A4:E4:00:99:37:F9:5A:48:23:B8:C4:E9:50:6C:EC:F5:D7:05:4D:C8:02:A7\n",
    "\n",
    "Info: Caching certificate for webserver.example.com\n",
    "\n",
    "Info: Caching certificate_revocation_list for ca\n",
    "\n",
    "Info: Caching certificates for ca\n",
    "\n",
    "Info: Using configured environment ‘production’\n",
    "\n",
    "Info: Retrieving pluginfacts\n",
    "\n",
    "Info: Retrieving plugin\n",
    "\n",
    "Info: Retrieving locales\n",
    "\n",
    "Info: Loading facts\n",
    "\n",
    "Info: Caching catalog for webserver.example.com\n",
    "\n",
    "Info: Applying configuration version ‘1575651019’\n",
    "\n",
    "Notice: Applied catalog in 0.07 seconds"
   ]
  },
  {
   "cell_type": "markdown",
   "metadata": {},
   "source": [
    "vim /etc/puppet/code/environments/production/manifests/site.pp\n",
    "\n",
    "node webserver {\n",
    "  class { 'apache': }\n",
    "}\n",
    "\n",
    "node default {}"
   ]
  },
  {
   "cell_type": "markdown",
   "metadata": {},
   "source": [
    "About this code\n",
    "View and create the site.pp manifest file by entering editing mode with the vim command. First, to install Apache on the webserver nodes, define the webserver node with the node webserver command, and then include the Apache class without any parameters with class{‘apache’}. Second, define the default node definition with the code node default{}. We won’t add any classes yet. "
   ]
  },
  {
   "cell_type": "markdown",
   "metadata": {},
   "source": [
    "sudo systemctl enable puppet"
   ]
  },
  {
   "cell_type": "markdown",
   "metadata": {},
   "source": [
    "About this code\n",
    "This code uses the systemctl command to enable the puppet service with the enable parameter so that the Puppet agent is started whenever the machine reboots. "
   ]
  },
  {
   "cell_type": "markdown",
   "metadata": {},
   "source": [
    "sudo systemctl start puppet\n",
    "sudo systemctl status puppet"
   ]
  },
  {
   "cell_type": "markdown",
   "metadata": {},
   "source": [
    "About this code\n",
    "This code starts the puppet service with the start parameter, then checks its status with the status parameter. "
   ]
  },
  {
   "cell_type": "markdown",
   "metadata": {},
   "source": [
    "Code output:\n",
    "\n",
    "The code output confirms that the puppet service has been loaded and is actively running. \n",
    "\n",
    "* puppet.service - Puppet agent\n",
    "\n",
    "   Loaded: loaded (/lib/systemd/system/puppet.service; enabled; vendor preset: enabled)\n",
    "\n",
    "   Active: active (running) since Tue 2019-11-26 21:13:30 UTC; 5s ago\n",
    "\n",
    "     Docs: man:puppet-agent(8)\n",
    "\n",
    "  Process: 30471 ExecStart=/usr/bin/puppet agent (code=exited, status=0/SUCCESS)\n",
    "\n",
    " Main PID: 30496 (puppet)\n",
    "\n",
    "    Tasks: 2 (limit: 4395)\n",
    "\n",
    "   CGroup: /system.slice/puppet.service\n",
    "\n",
    "           └─30496 /usr/bin/ruby /usr/bin/puppet agent"
   ]
  }
 ],
 "metadata": {
  "language_info": {
   "name": "python"
  }
 },
 "nbformat": 4,
 "nbformat_minor": 2
}
