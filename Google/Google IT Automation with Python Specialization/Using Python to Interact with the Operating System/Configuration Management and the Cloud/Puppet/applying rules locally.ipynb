{
 "cells": [
  {
   "cell_type": "markdown",
   "metadata": {},
   "source": [
    "<h1><u><b>Applying rules locally</h1></u></b>"
   ]
  },
  {
   "cell_type": "markdown",
   "metadata": {},
   "source": [
    "Enter in the terminal:"
   ]
  },
  {
   "cell_type": "code",
   "execution_count": 1,
   "metadata": {},
   "outputs": [
    {
     "ename": "SyntaxError",
     "evalue": "invalid syntax (339126500.py, line 1)",
     "output_type": "error",
     "traceback": [
      "\u001b[1;36m  Cell \u001b[1;32mIn[1], line 1\u001b[1;36m\u001b[0m\n\u001b[1;33m    sudo apt install puppet-master\u001b[0m\n\u001b[1;37m         ^\u001b[0m\n\u001b[1;31mSyntaxError\u001b[0m\u001b[1;31m:\u001b[0m invalid syntax\n"
     ]
    }
   ],
   "source": [
    "sudo apt install puppet-master\n",
    "#(...)\n",
    "#Processing triggers for systemd (240-6ubuntu5.7) ...\n",
    "#Processing triggers for man-db (2.8.5-2) ...\n",
    "#Processing triggers for fontconfig (2.13.1-2ubuntu2) ...\n",
    "vim tools.pp\n",
    "htop\n",
    "#-bash: /usr/bin/htop: No such file or directory\n"
   ]
  },
  {
   "cell_type": "markdown",
   "metadata": {},
   "source": [
    "Note: Command ‘htop’ will not be found. Complete the next steps. "
   ]
  },
  {
   "cell_type": "code",
   "execution_count": null,
   "metadata": {},
   "outputs": [],
   "source": [
    "sudo puppet apply -v tools.pp "
   ]
  },
  {
   "cell_type": "markdown",
   "metadata": {},
   "source": [
    "  Code output:\n",
    "\n",
    "Info: Loading facts\n",
    "\n",
    "Notice: Compiled catalog for ubuntu in environment production in 0.02 seconds\n",
    "\n",
    "Info: Applying configuration version '1572272642'\n",
    "\n",
    "Notice: /Stage[main]/Main/Package[htop]/ensure: created\n",
    "\n",
    "Notice: Applied catalog in 3.81 seconds"
   ]
  },
  {
   "cell_type": "markdown",
   "metadata": {},
   "source": [
    " Now you can try and run ‘htop’ again"
   ]
  },
  {
   "cell_type": "code",
   "execution_count": null,
   "metadata": {},
   "outputs": [],
   "source": [
    "htop"
   ]
  },
  {
   "cell_type": "code",
   "execution_count": null,
   "metadata": {},
   "outputs": [],
   "source": [
    "sudo puppet apply -v tools.pp \n"
   ]
  },
  {
   "cell_type": "markdown",
   "metadata": {},
   "source": [
    "Code output:\n",
    "\n",
    "Info: Loading facts\n",
    "\n",
    "Notice: Compiled catalog for ubuntu in environment production in 0.02 seconds\n",
    "\n",
    "Info: Applying configuration version '1572281655'\n",
    "\n",
    "Notice: Applied catalog in 0.07 seconds"
   ]
  }
 ],
 "metadata": {
  "kernelspec": {
   "display_name": "WorkArea",
   "language": "python",
   "name": "python3"
  },
  "language_info": {
   "codemirror_mode": {
    "name": "ipython",
    "version": 3
   },
   "file_extension": ".py",
   "mimetype": "text/x-python",
   "name": "python",
   "nbconvert_exporter": "python",
   "pygments_lexer": "ipython3",
   "version": "3.10.14"
  }
 },
 "nbformat": 4,
 "nbformat_minor": 2
}
