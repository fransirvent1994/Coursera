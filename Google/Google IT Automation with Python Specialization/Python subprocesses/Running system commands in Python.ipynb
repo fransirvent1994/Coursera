{
 "cells": [
  {
   "cell_type": "markdown",
   "metadata": {},
   "source": [
    "import subprocess --> import subprocess library<br>\n",
    "subprocess.run([\"date\"]) --> runs date and time<br>\n",
    "subprocess.run([\"sleep\", \"2\"])  <br>\n",
    "result = subprocess.run([\"ls\", \"this_file_does_not_exist\"]) <br>\n",
    "print(result.returncode) <br>"
   ]
  }
 ],
 "metadata": {
  "language_info": {
   "name": "python"
  }
 },
 "nbformat": 4,
 "nbformat_minor": 2
}
