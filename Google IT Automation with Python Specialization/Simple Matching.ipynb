{
 "cells": [
  {
   "cell_type": "code",
   "execution_count": 2,
   "metadata": {},
   "outputs": [],
   "source": [
    "import re"
   ]
  },
  {
   "cell_type": "code",
   "execution_count": 3,
   "metadata": {},
   "outputs": [
    {
     "name": "stdout",
     "output_type": "stream",
     "text": [
      "<re.Match object; span=(2, 5), match='aza'>\n"
     ]
    }
   ],
   "source": [
    "import re\n",
    "result = re.search(r\"aza\", \"plaza\")\n",
    "print(result)"
   ]
  },
  {
   "cell_type": "code",
   "execution_count": 4,
   "metadata": {},
   "outputs": [
    {
     "name": "stdout",
     "output_type": "stream",
     "text": [
      "<re.Match object; span=(0, 3), match='aba'>\n"
     ]
    }
   ],
   "source": [
    "import re\n",
    "# With inputs\n",
    "search_word = input(\"Insert critery search: \")\n",
    "word = input(\"Insert word: \")\n",
    "result = re.search(rf\"{search_word}\", word)\n",
    "print(result)"
   ]
  },
  {
   "cell_type": "code",
   "execution_count": 5,
   "metadata": {},
   "outputs": [
    {
     "name": "stdout",
     "output_type": "stream",
     "text": [
      "None\n",
      "<re.Match object; span=(0, 1), match='x'>\n"
     ]
    }
   ],
   "source": [
    "# No match\n",
    "result = re.search(r\"aza\", \"maze\")\n",
    "print(result)\n",
    "\n",
    "# To search for the exact character\n",
    "print(re.search(r\"^x\", \"xenon\"))"
   ]
  },
  {
   "cell_type": "code",
   "execution_count": 6,
   "metadata": {},
   "outputs": [
    {
     "name": "stdout",
     "output_type": "stream",
     "text": [
      "<re.Match object; span=(0, 4), match='peng'>\n"
     ]
    }
   ],
   "source": [
    "# To search starting with a letter, followed by a dot (which means any alphabet) and continue till the last characters\n",
    "print(re.search(r\"p.ng\", \"penguin\"))"
   ]
  },
  {
   "cell_type": "code",
   "execution_count": 7,
   "metadata": {},
   "outputs": [
    {
     "name": "stdout",
     "output_type": "stream",
     "text": [
      "<re.Match object; span=(0, 4), match='peng'>\n",
      "<re.Match object; span=(4, 8), match='ping'>\n",
      "<re.Match object; span=(1, 5), match='pong'>\n"
     ]
    }
   ],
   "source": [
    "import re\n",
    "print(re.search(r\"p.ng\", \"penguin\"))\n",
    "print(re.search(r\"p.ng\", \"clapping\"))\n",
    "print(re.search(r\"p.ng\", \"sponge\"))"
   ]
  },
  {
   "cell_type": "code",
   "execution_count": 8,
   "metadata": {},
   "outputs": [
    {
     "name": "stdout",
     "output_type": "stream",
     "text": [
      "<re.Match object; span=(0, 6), match='Python'>\n"
     ]
    }
   ],
   "source": [
    "# Tag used to search for a word that matches with the criteria on tag\n",
    "print(re.search(r\"[Pp]ython\", \"Python\")) # P or p before \"ython\""
   ]
  },
  {
   "cell_type": "code",
   "execution_count": 9,
   "metadata": {},
   "outputs": [
    {
     "name": "stdout",
     "output_type": "stream",
     "text": [
      "<re.Match object; span=(0, 6), match='Python'>\n"
     ]
    }
   ],
   "source": [
    "print(re.search(r\"[a-z, A-Z]ython\", \"Python\")) # Tag searchs for every word from a-z to A-Z before \"ython\""
   ]
  },
  {
   "cell_type": "code",
   "execution_count": 10,
   "metadata": {},
   "outputs": [
    {
     "name": "stdout",
     "output_type": "stream",
     "text": [
      "<re.Match object; span=(18, 22), match='hway'>\n",
      "None\n",
      "<re.Match object; span=(0, 6), match='cloudy'>\n",
      "<re.Match object; span=(0, 6), match='cloud9'>\n"
     ]
    }
   ],
   "source": [
    "print(re.search(r\"[a-z]way\", \"The end of the highway\")) # Searches for a minus before \"way\", so the output will be \"hway\" due to any word between a-z + way\n",
    "print(re.search(r\"[a-z]way\", \"What a way to go\")) # Same as before, just \"way\" has no character before, so the output will be \"none\"\n",
    "print(re.search(\"cloud[a-zA-Z0-9]\", \"cloudy\")) # Searchs for \"cloud\" + \"minus-capitals-numbers\"\n",
    "print(re.search(\"cloud[a-zA-Z0-9]\", \"cloud9\")) # Same as before"
   ]
  },
  {
   "cell_type": "code",
   "execution_count": 11,
   "metadata": {},
   "outputs": [
    {
     "name": "stdout",
     "output_type": "stream",
     "text": [
      "<re.Match object; span=(4, 5), match=' '>\n",
      "<re.Match object; span=(30, 31), match='.'>\n",
      "<re.Match object; span=(7, 10), match='cat'>\n",
      "<re.Match object; span=(7, 10), match='dog'>\n",
      "<re.Match object; span=(12, 15), match='dog'>\n",
      "<re.Match object; span=(7, 10), match='cat'>\n",
      "<re.Match object; span=(7, 10), match='dog'>\n",
      "<re.Match object; span=(12, 15), match='dog'>\n",
      "['dog', 'cat']\n"
     ]
    }
   ],
   "source": [
    "print(re.search(r\"[^a-zA-Z]\", \"This is a sentence with spaces.\"))\n",
    "print(re.search(r\"[^a-zA-Z ]\", \"This is a sentence with spaces.\"))\n",
    "\n",
    "print(re.search(r\"cat|dog\", \"I like cats.\"))\n",
    "print(re.search(r\"cat|dog\", \"I love dogs!\"))\n",
    "print(re.search(r\"cat|dog\", \"I like both dogs and cats.\"))\n",
    "\n",
    "print(re.search(r\"cat|dog\", \"I like cats.\"))\n",
    "print(re.search(r\"cat|dog\", \"I love dogs!\"))\n",
    "print(re.search(r\"cat|dog\", \"I like both dogs and cats.\"))\n",
    "print(re.findall(r\"cat|dog\", \"I like both dogs and cats.\"))"
   ]
  },
  {
   "cell_type": "code",
   "execution_count": null,
   "metadata": {},
   "outputs": [],
   "source": []
  }
 ],
 "metadata": {
  "kernelspec": {
   "display_name": "WorkArea",
   "language": "python",
   "name": "python3"
  },
  "language_info": {
   "codemirror_mode": {
    "name": "ipython",
    "version": 3
   },
   "file_extension": ".py",
   "mimetype": "text/x-python",
   "name": "python",
   "nbconvert_exporter": "python",
   "pygments_lexer": "ipython3",
   "version": "3.10.14"
  }
 },
 "nbformat": 4,
 "nbformat_minor": 2
}
